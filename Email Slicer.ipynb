{
 "cells": [
  {
   "cell_type": "code",
   "execution_count": 13,
   "metadata": {},
   "outputs": [
    {
     "data": {
      "text/plain": [
       "['kevin', 'gmail.com']"
      ]
     },
     "execution_count": 13,
     "metadata": {},
     "output_type": "execute_result"
    }
   ],
   "source": [
    "#first split function attempt\n",
    "email = \"kevin@gmail.com\"\n",
    "email.split('@')"
   ]
  },
  {
   "cell_type": "code",
   "execution_count": 14,
   "metadata": {},
   "outputs": [
    {
     "name": "stdout",
     "output_type": "stream",
     "text": [
      "Enter your email address:tombrady@nfl.com\n",
      "['tombrady', 'nfl.com']\n"
     ]
    }
   ],
   "source": [
    "#slice email into username and domain from input using split function\n",
    "email_Input = input(\"Enter your email address:\")\n",
    "print (email_Input.split('@'))"
   ]
  },
  {
   "cell_type": "code",
   "execution_count": 23,
   "metadata": {},
   "outputs": [
    {
     "name": "stdout",
     "output_type": "stream",
     "text": [
      "Enter your email address:jack\n",
      "Invalid Email\n"
     ]
    }
   ],
   "source": [
    "#check if email syntax is correct by finding @\n",
    "email_Input = input(\"Enter your email address:\")\n",
    "\n",
    "if email_Input.find('@') != -1:\n",
    "    print (email_Input.split('@'))\n",
    "else:\n",
    "    print(\"Invalid Email\")"
   ]
  },
  {
   "cell_type": "code",
   "execution_count": 24,
   "metadata": {},
   "outputs": [
    {
     "name": "stdout",
     "output_type": "stream",
     "text": [
      "Enter your email address:jacky@google\n",
      "Invalid Email\n"
     ]
    }
   ],
   "source": [
    "#check if email syntax is correct by finding '@' and '.com'\n",
    "email_Input = input(\"Enter your email address:\")\n",
    "\n",
    "if email_Input.find('@') != -1 and email_Input.find('.com') != -1:\n",
    "    print (email_Input.split('@'))\n",
    "else:\n",
    "    print(\"Invalid Email\")"
   ]
  },
  {
   "cell_type": "code",
   "execution_count": null,
   "metadata": {},
   "outputs": [
    {
     "name": "stdout",
     "output_type": "stream",
     "text": [
      "Enter your email address:troy@mail.com\n",
      "['troy', 'mail.com']\n",
      "Enter your email address:carrie@starwars\n",
      "Invalid Email\n",
      "Enter your email address:stevie.com\n",
      "Invalid Email\n",
      "Enter your email address:noobmaster69@gmail.com\n",
      "['noobmaster69', 'gmail.com']\n",
      "Enter your email address:danial27803@gmail.com\n",
      "['danial27803', 'gmail.com']\n"
     ]
    }
   ],
   "source": [
    "#run program endlessly while checking correct email syntax\n",
    "while True:\n",
    "    email_Input = input(\"Enter your email address:\")\n",
    "\n",
    "    if email_Input.find('@') != -1 and email_Input.find('.com') != -1:\n",
    "        print (email_Input.split('@'))\n",
    "    else:\n",
    "        print(\"Invalid Email\")\n",
    "        "
   ]
  }
 ],
 "metadata": {
  "kernelspec": {
   "display_name": "Python 3",
   "language": "python",
   "name": "python3"
  }
 },
 "nbformat": 4,
 "nbformat_minor": 4
}
